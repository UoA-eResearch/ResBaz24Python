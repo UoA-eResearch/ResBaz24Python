{
 "cells": [
  {
   "cell_type": "markdown",
   "metadata": {},
   "source": [
    "# Welcome to our session on \"Introduction to Python\"! 🐍\n",
    "\n",
    "## Today's example\n",
    "- import some data from spreadsheets\n",
    "- plot data (bar charts, scatter plots)\n",
    "- perform some basic statistical analysis\n",
    "- try to make predictions using a simple machine learning model 🧐"
   ]
  },
  {
   "cell_type": "markdown",
   "metadata": {},
   "source": [
    "# Housekeeping\n",
    "\n",
    "- Cameras on! 📸\n",
    "- If you have any questions, please ask them in the chat 💬\n",
    "- Please mute your microphone 🎤  \n",
    "- Be kind 😊\n",
    "  - all details of the Code of Conduct 🗞️  can be found [here](https://resbaz.auckland.ac.nz/about/) \n",
    "- This is a 4h session, we have 5 min breaks every hour and a 10 min break after 2h 🕒\n",
    "- You will be able to vote/have an influence on the content of this session 🗳️\n",
    "- This notebook and other resources will be shared with you later, always prioritise following-along over note-taking, etc. 📝\n"
   ]
  },
  {
   "cell_type": "markdown",
   "metadata": {},
   "source": [
    "# What you can expect\n",
    "\n",
    "<!-- ![Session Expectations](https://raw.githubusercontent.com/UoA-eResearch/ResBaz24Python/dev2/SessionExpectations.svg)  -->\n",
    "<div>\n",
    "<img src=\"https://raw.githubusercontent.com/UoA-eResearch/ResBaz24Python/dev2/SessionExpectations.svg\" width=\"800\"/>\n",
    "</div>\n"
   ]
  },
  {
   "cell_type": "markdown",
   "metadata": {},
   "source": [
    "# Defining goals for today's session (will be revisited at the end of the session)\n",
    "\n",
    "- we want you to... \n",
    "  - ... have fun! 🎉\n",
    "  - ... follow along with us and learn some Python 🐍 while working through a few examples\n",
    "    - learning by doing/ *\"live coding\"*\n",
    "    - we mostly follow [The Carpentries style of teaching](https://swcarpentry.github.io/swc-releases/2017.02/instructor-training/15-practices/)\n",
    "\n",
    "- we won't find the time to\n",
    "  - ... start with the basics of coding\n",
    "    - there are other sessions\n",
    "      - Carp\n",
    "      - ML\n",
    "    - hand-selected links to resoures will follow in the very end\n",
    "  - ... discuss different environments for Python\n",
    "    - we will use Google Colab ([as mentioned](https://resbaz.auckland.ac.nz/setup/) you need a Google account)\n",
    "    - there are use-cases where you won't use a Jupyter Notebook (like this one right here), you can write scripts and run them on the command-line\n",
    "    - you can use an Integrated Development Environment (IDE) like [Visual Studio Code](https://code.visualstudio.com/) or [PyCharm](https://www.jetbrains.com/pycharm/)\n",
    "\n"
   ]
  },
  {
   "cell_type": "markdown",
   "metadata": {},
   "source": [
    "## Intermezzo: What is a Jupyter Notebook?\n",
    "\n",
    "Show and tell: Now, gogogo! 🏃‍♂️"
   ]
  },
  {
   "cell_type": "markdown",
   "metadata": {},
   "source": [
    "# Zoom Poll#1 Why do you attend this? 🤔"
   ]
  },
  {
   "cell_type": "markdown",
   "metadata": {
    "vscode": {
     "languageId": "plaintext"
    }
   },
   "source": [
    "# Bare minimum to get started\n",
    "\n",
    "## Variables and data types"
   ]
  },
  {
   "cell_type": "code",
   "execution_count": 1,
   "metadata": {},
   "outputs": [
    {
     "data": {
      "text/plain": [
       "2"
      ]
     },
     "execution_count": 1,
     "metadata": {},
     "output_type": "execute_result"
    }
   ],
   "source": [
    "# this is a comment (this is more powerful that you think)\n",
    "# We can use Python to do simple math\n",
    "1+1"
   ]
  },
  {
   "cell_type": "code",
   "execution_count": 3,
   "metadata": {},
   "outputs": [],
   "source": [
    "# enter your name here\n",
    "participant_name = \"nick\""
   ]
  },
  {
   "cell_type": "code",
   "execution_count": 6,
   "metadata": {},
   "outputs": [
    {
     "data": {
      "text/plain": [
       "'👍'"
      ]
     },
     "execution_count": 6,
     "metadata": {},
     "output_type": "execute_result"
    }
   ],
   "source": [
    "import requests\n",
    "# https://api-proxy.auckland-cer.cloud.edu.au/resbaz24/docs#/default/upload_answer__post\n",
    "requests.post(f\"https://api-proxy.auckland-cer.cloud.edu.au/resbaz24/\", params={\n",
    "  \"question\": 1,\n",
    "  \"answer\": 1+1,\n",
    "  \"participant_name\": participant_name\n",
    "}).json()"
   ]
  },
  {
   "cell_type": "code",
   "execution_count": 8,
   "metadata": {},
   "outputs": [
    {
     "data": {
      "text/plain": [
       "1.4142135623730951"
      ]
     },
     "execution_count": 8,
     "metadata": {},
     "output_type": "execute_result"
    }
   ],
   "source": [
    "# We can also use Python to do more complex math\n",
    "# Here we are calculating the square root of 2\n",
    "import math\n",
    "math.sqrt(2)"
   ]
  },
  {
   "cell_type": "code",
   "execution_count": 9,
   "metadata": {},
   "outputs": [
    {
     "data": {
      "text/plain": [
       "'👍'"
      ]
     },
     "execution_count": 9,
     "metadata": {},
     "output_type": "execute_result"
    }
   ],
   "source": [
    "requests.post(f\"https://api-proxy.auckland-cer.cloud.edu.au/resbaz24/\", params={\n",
    "  \"question\": 2,\n",
    "  \"answer\": math.sqrt(2),\n",
    "  \"participant_name\": participant_name\n",
    "}).json()"
   ]
  },
  {
   "cell_type": "markdown",
   "metadata": {},
   "source": [
    "### more detailed explanation:\n",
    "We just imported a package/library/an external component/something that someone else has built. One repository of such packages is the Python Package Index (PyPI) [pypi.org](https://pypi.org/). "
   ]
  },
  {
   "cell_type": "code",
   "execution_count": 8,
   "metadata": {},
   "outputs": [
    {
     "name": "stdout",
     "output_type": "stream",
     "text": [
      "The square root of 2 is 1.4142135623730951\n"
     ]
    }
   ],
   "source": [
    "# Let's not just have a number as an output, but let's add some text describing it\n",
    "print(\"The square root of 2 is:\", math.sqrt(2))"
   ]
  },
  {
   "cell_type": "code",
   "execution_count": 7,
   "metadata": {},
   "outputs": [
    {
     "name": "stdout",
     "output_type": "stream",
     "text": [
      "The square root of 2 is 1.414\n"
     ]
    }
   ],
   "source": [
    "# Let's only show the first 3 decimal points\n",
    "print(\"The square root of 2 is:\", round(math.sqrt(2),3))"
   ]
  },
  {
   "cell_type": "markdown",
   "metadata": {},
   "source": [
    "# Preparing \"Over to you\"\n",
    "<!-- TODO we could ask participants to give us the value of Pi at a given decimal place; e.g. Participant A place 42; B place 65,... -->\n",
    "- each one can click this link\n",
    "- you will be redirected to a website\n",
    "- you can enter your/a name\n",
    "- you will get some values and downloads (Excel file, CSV file, TSV file)\n",
    "  <!-- - TODO is there a smart way of doing this with an API call/have it on GH as a filter? Make a GHAction to provide each one with it? -->\n",
    "- we use the number pi\n",
    "- how would you write this in Python?\n",
    "- each one of you now needs to perform the calculation\n",
    "- once you have some result, paste it into RESULT BOX1: and press send\n",
    "  - we will then see the results and discuss them\n",
    "\n",
    "# Now really \"Over to you\""
   ]
  },
  {
   "cell_type": "code",
   "execution_count": 12,
   "metadata": {},
   "outputs": [],
   "source": [
    "# we make API calls"
   ]
  },
  {
   "cell_type": "markdown",
   "metadata": {},
   "source": [
    "## Recap\n",
    "- we have used Python as a calculator\n",
    "- we have imported a library (i.e. math)\n",
    "- we have used a variable to store a value\n",
    "- we have printed the value of a variable\n",
    "\n",
    "## Next\n",
    "- we will store a value in a variable\n",
    "- we will use a different data type"
   ]
  },
  {
   "cell_type": "code",
   "execution_count": 9,
   "metadata": {},
   "outputs": [],
   "source": [
    "squareRootOfTwo = round(math.sqrt(2),3)"
   ]
  },
  {
   "cell_type": "markdown",
   "metadata": {},
   "source": [
    "as you can see, there is nothing to see"
   ]
  },
  {
   "cell_type": "code",
   "execution_count": 10,
   "metadata": {},
   "outputs": [
    {
     "name": "stdout",
     "output_type": "stream",
     "text": [
      "1.414\n"
     ]
    }
   ],
   "source": [
    "print(squareRootOfTwo)"
   ]
  },
  {
   "cell_type": "code",
   "execution_count": 11,
   "metadata": {},
   "outputs": [
    {
     "name": "stdout",
     "output_type": "stream",
     "text": [
      "The square root of 2 is 1.414\n"
     ]
    }
   ],
   "source": [
    "# let's use a really neat trick to print the value of a variable\n",
    "print(f\"The square root of 2 is: {squareRootOfTwo}\")\n",
    "# this is refered to as an f-string"
   ]
  },
  {
   "cell_type": "markdown",
   "metadata": {},
   "source": [
    "# Variables and data types\n",
    "\n",
    "- Python is dynamically typed (aka duck-typed 🦆)\n",
    "- We don't have to specify what kind of data we want to store in a variable\n",
    "- Python will figure it out for us"
   ]
  },
  {
   "cell_type": "code",
   "execution_count": 10,
   "metadata": {},
   "outputs": [
    {
     "data": {
      "text/plain": [
       "'myNameisJohnDoe'"
      ]
     },
     "execution_count": 10,
     "metadata": {},
     "output_type": "execute_result"
    }
   ],
   "source": [
    "name = \"myNameisJohnDoe\"\n",
    "# on a side-note in a Jupyter Notebook we often don't need to use the print function\n",
    "name"
   ]
  },
  {
   "cell_type": "code",
   "execution_count": 11,
   "metadata": {},
   "outputs": [
    {
     "data": {
      "text/plain": [
       "'👍'"
      ]
     },
     "execution_count": 11,
     "metadata": {},
     "output_type": "execute_result"
    }
   ],
   "source": [
    "requests.post(f\"https://api-proxy.auckland-cer.cloud.edu.au/resbaz24/\", params={\n",
    "  \"question\": 3,\n",
    "  \"answer\": name,\n",
    "  \"participant_name\": participant_name\n",
    "}).json()"
   ]
  },
  {
   "cell_type": "code",
   "execution_count": 13,
   "metadata": {},
   "outputs": [
    {
     "data": {
      "text/plain": [
       "42"
      ]
     },
     "execution_count": 13,
     "metadata": {},
     "output_type": "execute_result"
    }
   ],
   "source": [
    "age = 42\n",
    "age"
   ]
  },
  {
   "cell_type": "code",
   "execution_count": 14,
   "metadata": {},
   "outputs": [
    {
     "data": {
      "text/plain": [
       "'👍'"
      ]
     },
     "execution_count": 14,
     "metadata": {},
     "output_type": "execute_result"
    }
   ],
   "source": [
    "requests.post(f\"https://api-proxy.auckland-cer.cloud.edu.au/resbaz24/\", params={\n",
    "  \"question\": 4,\n",
    "  \"answer\": age,\n",
    "  \"participant_name\": participant_name\n",
    "}).json()"
   ]
  },
  {
   "cell_type": "code",
   "execution_count": 16,
   "metadata": {},
   "outputs": [
    {
     "ename": "TypeError",
     "evalue": "can only concatenate str (not \"int\") to str",
     "output_type": "error",
     "traceback": [
      "\u001b[0;31m---------------------------------------------------------------------------\u001b[0m",
      "\u001b[0;31mTypeError\u001b[0m                                 Traceback (most recent call last)",
      "Cell \u001b[0;32mIn[16], line 2\u001b[0m\n\u001b[1;32m      1\u001b[0m \u001b[38;5;66;03m# Let's see what happens when we try to add a string and a number\u001b[39;00m\n\u001b[0;32m----> 2\u001b[0m nameAndAge \u001b[38;5;241m=\u001b[39m \u001b[43mname\u001b[49m\u001b[43m \u001b[49m\u001b[38;5;241;43m+\u001b[39;49m\u001b[43m \u001b[49m\u001b[43mage\u001b[49m\n",
      "\u001b[0;31mTypeError\u001b[0m: can only concatenate str (not \"int\") to str"
     ]
    }
   ],
   "source": [
    "# Let's see what happens when we try to add a string and a number\n",
    "nameAndAge = name + age"
   ]
  },
  {
   "cell_type": "markdown",
   "metadata": {},
   "source": [
    "On a side-note: Python errors tend to be 'verbose', they might seem intimidating. Read them bottom to top. Use online resources to get help. There is a big community!"
   ]
  },
  {
   "cell_type": "code",
   "execution_count": 18,
   "metadata": {},
   "outputs": [
    {
     "data": {
      "text/plain": [
       "str"
      ]
     },
     "execution_count": 18,
     "metadata": {},
     "output_type": "execute_result"
    }
   ],
   "source": [
    "# Make Python show us the type of the variable\n",
    "type(name)"
   ]
  },
  {
   "cell_type": "markdown",
   "metadata": {},
   "source": [
    "# More complex data types\n",
    "\n",
    "- to iterate: This is a 4h intro\n",
    "- we will only show you four other data types\n",
    "  - `list` (list) which is a collection of items\n",
    "  - `dict`  (dictionary) which is a key-value pair\n",
    "  - `np.array` ([numpy](https://numpy.org/) array) which is a collection of items with the same data type\n",
    "    - alternative for use [MatLab](https://www.mathworks.com/products/matlab.html) \n",
    "  - `pd.DataFrame` ([pandas](https://pandas.pydata.org/) DataFrame) which is a 2D data structure with columns that can have different data types\n",
    "    - alternative to [R](https://www.r-project.org/)\n",
    "\t\t- (we will import our spreadsheet into this data type)"
   ]
  },
  {
   "cell_type": "code",
   "execution_count": 15,
   "metadata": {},
   "outputs": [
    {
     "data": {
      "text/plain": [
       "['John', 'Jane', 'Jack', 'Jill']"
      ]
     },
     "execution_count": 15,
     "metadata": {},
     "output_type": "execute_result"
    }
   ],
   "source": [
    "# Lets have a list of names\n",
    "names = [\"John\", \"Jane\", \"Jack\", \"Jill\"]\n",
    "names\n"
   ]
  },
  {
   "cell_type": "code",
   "execution_count": 16,
   "metadata": {},
   "outputs": [
    {
     "data": {
      "text/plain": [
       "'Jane'"
      ]
     },
     "execution_count": 16,
     "metadata": {},
     "output_type": "execute_result"
    }
   ],
   "source": [
    "# Let's only show the first element of the list\n",
    "names[1]"
   ]
  },
  {
   "cell_type": "markdown",
   "metadata": {},
   "source": [
    "Wait! Jane? 🤔\n",
    "Yes, Python is zero-indexed! 🤯\n",
    "If we want to see the first element of a list, we need to use `list[0]` 🤯"
   ]
  },
  {
   "cell_type": "code",
   "execution_count": 17,
   "metadata": {},
   "outputs": [
    {
     "data": {
      "text/plain": [
       "'John'"
      ]
     },
     "execution_count": 17,
     "metadata": {},
     "output_type": "execute_result"
    }
   ],
   "source": [
    "names[0]"
   ]
  },
  {
   "cell_type": "markdown",
   "metadata": {},
   "source": [
    "there you go!"
   ]
  },
  {
   "cell_type": "code",
   "execution_count": 18,
   "metadata": {},
   "outputs": [
    {
     "data": {
      "text/plain": [
       "['John', 'Jane']"
      ]
     },
     "execution_count": 18,
     "metadata": {},
     "output_type": "execute_result"
    }
   ],
   "source": [
    "# Demonstration: How to get a subset of a list\n",
    "names[0:2]"
   ]
  },
  {
   "cell_type": "code",
   "execution_count": 19,
   "metadata": {},
   "outputs": [
    {
     "data": {
      "text/plain": [
       "['John', 'Jane', 'Jack', 'Jill', 'James']"
      ]
     },
     "execution_count": 19,
     "metadata": {},
     "output_type": "execute_result"
    }
   ],
   "source": [
    "# Demonstration: How to append a list\n",
    "names.append(\"James\")\n",
    "names\n",
    "# so we can have duplicates!"
   ]
  },
  {
   "cell_type": "code",
   "execution_count": null,
   "metadata": {},
   "outputs": [],
   "source": [
    "requests.post(f\"https://api-proxy.auckland-cer.cloud.edu.au/resbaz24/\", params={\n",
    "  \"question\": 5,\n",
    "  \"answer\": names,\n",
    "  \"participant_name\": names\n",
    "}).json()"
   ]
  },
  {
   "cell_type": "markdown",
   "metadata": {},
   "source": [
    "# to do next\n",
    "- what about if conditions\n",
    "- for loops\n",
    "- functions\n",
    "- how do we integrate them? Do we have enough time?"
   ]
  },
  {
   "cell_type": "markdown",
   "metadata": {},
   "source": [
    "# You can choose (ZOOM POLL):\n",
    "We have to options.\n",
    "We might have time for both, but we will start with the one that gets the most votes.\n",
    "If we run out of time, we will have this linked in the notebook and you can try it out at home.\n",
    "Again, it is of utmost importance that you have fun and learn something new today! 🎉 \n",
    "Python is a vast field and we can only scratch the surface today.\n",
    "No *fomo*! 🙅‍♂️ \n",
    "\n",
    "## Option A: The Math problem 🧮\n",
    "- we use a mathematical function, e.g. `y = 2x + 1`\n",
    "- we add some random noise to the data (fancy: Monte Carlo simulation🎲 $^1$)\n",
    "  - we import some data from a spreadsheet\n",
    "  - we add the noise\n",
    "  - we export the data\n",
    "- we plot the data\n",
    "  \n",
    "$\\rightarrow$ pick this one if you **like math and plotting mathematical functions**\n",
    "\n",
    "## Option B: The waiter and tips 🍽️ 💸\n",
    "- we use a given dataset (seaborn tips)\n",
    "- we plot the data\n",
    "- we perform some `Exploratory Data Analysis` (EDA)\n",
    "- we will *automagically* $^2$ the truth to be revealed later \n",
    "  \n",
    "$\\rightarrow$ pick this one if you **expect that your research will involve data analysis and you want to see how efficiently this can be done in Python**\n",
    "\n",
    "## For both options we will do the following:\n",
    "- we perform a linear regression (we fit a curve to the data; well, a line to be honest with *linear* regression)\n",
    "- we inspect some statistical values\n",
    "- if we find the time, we also perform a polynomial regression (we fit a curve to the data; this time really *a curve*)\n",
    "\n",
    "$^1$ Monte Carlo simulation is just a fancy way of using randomness and lots of tries to find out the chances of something happening, like picking a red candy from a huge jar. Scientists and mathematicians use this method to solve problems that are too tricky to figure out with just a few calculations."
   ]
  },
  {
   "cell_type": "markdown",
   "metadata": {},
   "source": [
    "# Zoom-poll result and then: Go, go, go!"
   ]
  },
  {
   "cell_type": "code",
   "execution_count": 20,
   "metadata": {},
   "outputs": [],
   "source": [
    "import pandas as pd"
   ]
  },
  {
   "cell_type": "markdown",
   "metadata": {},
   "source": [
    "# Revisiting the Goals"
   ]
  },
  {
   "cell_type": "markdown",
   "metadata": {},
   "source": [
    "Did you?\n",
    "  - ... have fun! 🎉\n",
    "  - ... follow along while live coding in Python 🐍 \n",
    "  - ... pick up some core coding concepts while doing that?\n",
    "  - ... make a decision if Python is something you want to learn/use? If so:\n",
    "      - Carp\n",
    "      - ML\n",
    "      - hand-selected links below\n",
    "  \n",
    "  Now that we have this experience in Google Colab, which is one flavour of a Jupyter Notebook\n",
    "  - University of Auckland researchers have access to the [Nectar Research Cloud](https://research-hub.auckland.ac.nz/research-software-and-computing/advanced-compute/nectar-research-cloud) and sevices like [JupyterHub](https://research-hub.auckland.ac.nz/research-software-and-computing/advanced-compute/nectar-jupyterhub), [BinderHub](https://research-hub.auckland.ac.nz/research-software-and-computing/advanced-compute/nectar-binderhub), and [Nectar Virtual Desktop](https://research-hub.auckland.ac.nz/research-software-and-computing/advanced-compute/nectar-virtual-desktop)\n",
    "  - if you automate tasks, make machines talk to other machines, etc. you can write scripts and run them on the command-line\n",
    "  - you can use an Integrated Development Environment (IDE) like [Visual Studio Code](https://code.visualstudio.com/) or [PyCharm](https://www.jetbrains.com/pycharm/)\n",
    "\n",
    "Were your goals met? 🎯\n"
   ]
  },
  {
   "cell_type": "code",
   "execution_count": null,
   "metadata": {},
   "outputs": [],
   "source": []
  },
  {
   "cell_type": "markdown",
   "metadata": {},
   "source": []
  },
  {
   "cell_type": "code",
   "execution_count": null,
   "metadata": {},
   "outputs": [],
   "source": []
  },
  {
   "cell_type": "markdown",
   "metadata": {},
   "source": [
    "# Resources"
   ]
  }
 ],
 "metadata": {
  "kernelspec": {
   "display_name": "Python 3",
   "language": "python",
   "name": "python3"
  },
  "language_info": {
   "codemirror_mode": {
    "name": "ipython",
    "version": 3
   },
   "file_extension": ".py",
   "mimetype": "text/x-python",
   "name": "python",
   "nbconvert_exporter": "python",
   "pygments_lexer": "ipython3",
   "version": "3.10.12"
  }
 },
 "nbformat": 4,
 "nbformat_minor": 2
}
