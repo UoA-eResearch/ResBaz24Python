{
 "cells": [
  {
   "cell_type": "code",
   "execution_count": 4,
   "metadata": {},
   "outputs": [
    {
     "name": "stdout",
     "output_type": "stream",
     "text": [
      "   total_bill   tip     sex smoker  day    time  size\n",
      "0       16.99  1.01  Female     No  Sun  Dinner     2\n",
      "1       10.34  1.66    Male     No  Sun  Dinner     3\n",
      "2       21.01  3.50    Male     No  Sun  Dinner     3\n",
      "3       23.68  3.31    Male     No  Sun  Dinner     2\n",
      "4       24.59  3.61  Female     No  Sun  Dinner     4\n",
      "   total_bill       tip     sex smoker  day    time  size\n",
      "0   12.385880  4.163671    Male     No  Fri  Dinner     2\n",
      "1   25.643095  2.342222  Female     No  Sun  Dinner     3\n",
      "2   21.521332  6.593572    Male    Yes  Fri  Dinner     2\n",
      "3   25.221307  3.352788    Male    Yes  Sun   Lunch     3\n",
      "4   34.948918  1.181337    Male     No  Sun   Lunch     4\n",
      "      sex  size smoker  total_bill  day    time       tip\n",
      "0    Male     2     No   12.385880  Fri  Dinner  4.163671\n",
      "1  Female     3     No   25.643095  Sun  Dinner  2.342222\n",
      "2    Male     2    Yes   21.521332  Fri  Dinner  6.593572\n",
      "3    Male     3    Yes   25.221307  Sun   Lunch  3.352788\n",
      "4    Male     4     No   34.948918  Sun   Lunch  1.181337\n"
     ]
    }
   ],
   "source": [
    "import seaborn as sns\n",
    "import pandas as pd\n",
    "import numpy as np\n",
    "\n",
    "# Load the original Seaborn 'tips' dataset\n",
    "tips = sns.load_dataset('tips')\n",
    "\n",
    "# Display the first few rows of the original dataset\n",
    "print(tips.head())\n",
    "\n",
    "# Define a function to generate a single random tip record\n",
    "def generate_random_tip():\n",
    "    total_bill = np.random.normal(loc=tips['total_bill'].mean(), scale=tips['total_bill'].std())\n",
    "    tip = np.random.normal(loc=tips['tip'].mean(), scale=tips['tip'].std())\n",
    "    sex = np.random.choice(['Male', 'Female'])\n",
    "    smoker = np.random.choice(['Yes', 'No'])\n",
    "    day = np.random.choice(['Thur', 'Fri', 'Sat', 'Sun'])\n",
    "    time = np.random.choice(['Lunch', 'Dinner'])\n",
    "    size = np.random.choice([1, 2, 3, 4, 5, 6], p=[0.15, 0.3, 0.3, 0.15, 0.05, 0.05])\n",
    "    \n",
    "    return [total_bill, tip, sex, smoker, day, time, size]\n",
    "\n",
    "# Generate 500 random tip records\n",
    "random_tips = [generate_random_tip() for _ in range(500)]\n",
    "\n",
    "# Create a DataFrame with the generated data\n",
    "random_tips_df = pd.DataFrame(random_tips, columns=tips.columns)\n",
    "\n",
    "# Display the first few rows of the generated dataset\n",
    "print(random_tips_df.head())\n",
    "\n",
    "# Save the generated dataset to a CSV file\n",
    "random_tips_df.to_csv('random_tips.csv', index=False)\n",
    "\n",
    "# Shuffle the columns of the DataFrame\n",
    "shuffled_random_tips_df = random_tips_df.sample(frac=1, axis=1)\n",
    "\n",
    "# Display the first few rows of the shuffled DataFrame\n",
    "print(shuffled_random_tips_df.head())\n",
    "\n",
    "# Save the shuffled DataFrame to a CSV file\n",
    "shuffled_random_tips_df.to_csv('shuffled_random_tips.csv', index=False)\n",
    "\n"
   ]
  },
  {
   "cell_type": "code",
   "execution_count": null,
   "metadata": {},
   "outputs": [],
   "source": []
  }
 ],
 "metadata": {
  "kernelspec": {
   "display_name": "Python 3",
   "language": "python",
   "name": "python3"
  },
  "language_info": {
   "codemirror_mode": {
    "name": "ipython",
    "version": 3
   },
   "file_extension": ".py",
   "mimetype": "text/x-python",
   "name": "python",
   "nbconvert_exporter": "python",
   "pygments_lexer": "ipython3",
   "version": "3.11.9"
  }
 },
 "nbformat": 4,
 "nbformat_minor": 2
}
