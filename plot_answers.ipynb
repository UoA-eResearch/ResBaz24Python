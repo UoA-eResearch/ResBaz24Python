{
  "cells": [
    {
      "cell_type": "markdown",
      "metadata": {},
      "source": [
        "# 'Backend' to track particpants engagement\n",
        "\n",
        "- a server running FastAPI gets results which can be queried as a dataframe\n",
        "- especially during the session, instructors can refresh the adequate cells to see the latest results\n",
        "  - at times, Colab won't allow too many concurrent sessions; the advice is to use VSC, etc. to query the server (in other words, if you present in Colab and want to get live participants answers, you risk Colab complaining about too many sessions on a non-pro plan, hence, use VSC etc. to query the server)\n",
        "\n",
        "- for each run, please adjsut the day below so we have traceability across the runs"
      ]
    },
    {
      "cell_type": "code",
      "execution_count": 284,
      "metadata": {
        "cellView": "form",
        "id": "IKxkqfNNtLad"
      },
      "outputs": [],
      "source": [
        "#@title Select the date you want to see answers for\n",
        "\n",
        "# date = '2024-07-09'  #@param {type: \"date\"}\n",
        "date = '2024-07-17'  #@param {type: \"date\"}"
      ]
    },
    {
      "cell_type": "markdown",
      "metadata": {
        "id": "sMp3K2q8_Yjm"
      },
      "source": [
        "<a target=\"_blank\" href=\"https://colab.research.google.com/github/UoA-eResearch/ResBaz24Python/blob/dev/plot_answers.ipynb\">\n",
        "  <img src=\"https://colab.research.google.com/assets/colab-badge.svg\" alt=\"Open In Colab\"/>\n",
        "</a>"
      ]
    },
    {
      "cell_type": "markdown",
      "metadata": {
        "id": "47aXj9EGAhuz"
      },
      "source": [
        "# Import data from API"
      ]
    },
    {
      "cell_type": "code",
      "execution_count": 294,
      "metadata": {
        "colab": {
          "base_uri": "https://localhost:8080/",
          "height": 143
        },
        "id": "inHIBzO7qIcY",
        "outputId": "8c082598-ff59-431e-acc8-61b3067389af"
      },
      "outputs": [
        {
          "data": {
            "text/html": [
              "<div>\n",
              "<style scoped>\n",
              "    .dataframe tbody tr th:only-of-type {\n",
              "        vertical-align: middle;\n",
              "    }\n",
              "\n",
              "    .dataframe tbody tr th {\n",
              "        vertical-align: top;\n",
              "    }\n",
              "\n",
              "    .dataframe thead th {\n",
              "        text-align: right;\n",
              "    }\n",
              "</style>\n",
              "<table border=\"1\" class=\"dataframe\">\n",
              "  <thead>\n",
              "    <tr style=\"text-align: right;\">\n",
              "      <th></th>\n",
              "      <th>timestamp</th>\n",
              "      <th>participant_name</th>\n",
              "      <th>question</th>\n",
              "      <th>answer</th>\n",
              "      <th>is_correct</th>\n",
              "    </tr>\n",
              "  </thead>\n",
              "  <tbody>\n",
              "    <tr>\n",
              "      <th>0</th>\n",
              "      <td>2024-07-10 01:30:14.977322</td>\n",
              "      <td>Jens Brinkmann</td>\n",
              "      <td>0</td>\n",
              "      <td>10</td>\n",
              "      <td>True</td>\n",
              "    </tr>\n",
              "    <tr>\n",
              "      <th>1</th>\n",
              "      <td>2024-07-10 01:30:17.374943</td>\n",
              "      <td>Margaret Carpenter</td>\n",
              "      <td>0</td>\n",
              "      <td>10</td>\n",
              "      <td>True</td>\n",
              "    </tr>\n",
              "    <tr>\n",
              "      <th>2</th>\n",
              "      <td>2024-07-10 01:30:19.373644</td>\n",
              "      <td>Rebecca M</td>\n",
              "      <td>0</td>\n",
              "      <td>10</td>\n",
              "      <td>True</td>\n",
              "    </tr>\n",
              "    <tr>\n",
              "      <th>3</th>\n",
              "      <td>2024-07-10 01:30:20.718552</td>\n",
              "      <td>Kasey Kiesewetter</td>\n",
              "      <td>0</td>\n",
              "      <td>10</td>\n",
              "      <td>True</td>\n",
              "    </tr>\n",
              "    <tr>\n",
              "      <th>4</th>\n",
              "      <td>2024-07-10 01:30:20.820053</td>\n",
              "      <td>Rebecca M</td>\n",
              "      <td>0</td>\n",
              "      <td>10</td>\n",
              "      <td>True</td>\n",
              "    </tr>\n",
              "    <tr>\n",
              "      <th>...</th>\n",
              "      <td>...</td>\n",
              "      <td>...</td>\n",
              "      <td>...</td>\n",
              "      <td>...</td>\n",
              "      <td>...</td>\n",
              "    </tr>\n",
              "    <tr>\n",
              "      <th>177</th>\n",
              "      <td>2024-07-10 02:42:19.041430</td>\n",
              "      <td>Erin Steed</td>\n",
              "      <td>1500</td>\n",
              "      <td>Option B the Waiter and Tips</td>\n",
              "      <td>True</td>\n",
              "    </tr>\n",
              "    <tr>\n",
              "      <th>178</th>\n",
              "      <td>2024-07-10 02:42:19.711935</td>\n",
              "      <td>Jieyun Wu</td>\n",
              "      <td>1500</td>\n",
              "      <td>Option B the Waiter and Tips</td>\n",
              "      <td>True</td>\n",
              "    </tr>\n",
              "    <tr>\n",
              "      <th>179</th>\n",
              "      <td>2024-07-10 02:44:21.128235</td>\n",
              "      <td>Lin</td>\n",
              "      <td>1500</td>\n",
              "      <td>Option B the Waiter and Tips</td>\n",
              "      <td>True</td>\n",
              "    </tr>\n",
              "    <tr>\n",
              "      <th>180</th>\n",
              "      <td>2024-07-10 02:51:21.924277</td>\n",
              "      <td>Maira Fessardi</td>\n",
              "      <td>8</td>\n",
              "      <td># @title Check Answer for Exercise 8\\nimport r...</td>\n",
              "      <td>False</td>\n",
              "    </tr>\n",
              "    <tr>\n",
              "      <th>181</th>\n",
              "      <td>2024-07-10 02:51:37.833449</td>\n",
              "      <td>Maira Fessardi</td>\n",
              "      <td>8</td>\n",
              "      <td># @title Check Answer for Exercise 8\\nimport r...</td>\n",
              "      <td>False</td>\n",
              "    </tr>\n",
              "  </tbody>\n",
              "</table>\n",
              "<p>182 rows × 5 columns</p>\n",
              "</div>"
            ],
            "text/plain": [
              "                      timestamp    participant_name  question  \\\n",
              "0    2024-07-10 01:30:14.977322      Jens Brinkmann         0   \n",
              "1    2024-07-10 01:30:17.374943  Margaret Carpenter         0   \n",
              "2    2024-07-10 01:30:19.373644           Rebecca M         0   \n",
              "3    2024-07-10 01:30:20.718552   Kasey Kiesewetter         0   \n",
              "4    2024-07-10 01:30:20.820053           Rebecca M         0   \n",
              "..                          ...                 ...       ...   \n",
              "177  2024-07-10 02:42:19.041430          Erin Steed      1500   \n",
              "178  2024-07-10 02:42:19.711935           Jieyun Wu      1500   \n",
              "179  2024-07-10 02:44:21.128235                 Lin      1500   \n",
              "180  2024-07-10 02:51:21.924277      Maira Fessardi         8   \n",
              "181  2024-07-10 02:51:37.833449      Maira Fessardi         8   \n",
              "\n",
              "                                                answer  is_correct  \n",
              "0                                                   10        True  \n",
              "1                                                   10        True  \n",
              "2                                                   10        True  \n",
              "3                                                   10        True  \n",
              "4                                                   10        True  \n",
              "..                                                 ...         ...  \n",
              "177                       Option B the Waiter and Tips        True  \n",
              "178                       Option B the Waiter and Tips        True  \n",
              "179                       Option B the Waiter and Tips        True  \n",
              "180  # @title Check Answer for Exercise 8\\nimport r...       False  \n",
              "181  # @title Check Answer for Exercise 8\\nimport r...       False  \n",
              "\n",
              "[182 rows x 5 columns]"
            ]
          },
          "execution_count": 294,
          "metadata": {},
          "output_type": "execute_result"
        }
      ],
      "source": [
        "import requests\n",
        "import pandas as pd\n",
        "import matplotlib.pyplot as plt\n",
        "\n",
        "df = pd.DataFrame(requests.get(\"http://resbaz.auckland-cer.cloud.edu.au/\").json())\n",
        "df"
      ]
    },
    {
      "cell_type": "code",
      "execution_count": 295,
      "metadata": {},
      "outputs": [],
      "source": [
        "# export df as a csv file\n",
        "df.to_csv(f\"resbaz_{date}.csv\", index=False)"
      ]
    },
    {
      "cell_type": "code",
      "execution_count": 306,
      "metadata": {},
      "outputs": [
        {
          "data": {
            "text/html": [
              "<div>\n",
              "<style scoped>\n",
              "    .dataframe tbody tr th:only-of-type {\n",
              "        vertical-align: middle;\n",
              "    }\n",
              "\n",
              "    .dataframe tbody tr th {\n",
              "        vertical-align: top;\n",
              "    }\n",
              "\n",
              "    .dataframe thead th {\n",
              "        text-align: right;\n",
              "    }\n",
              "</style>\n",
              "<table border=\"1\" class=\"dataframe\">\n",
              "  <thead>\n",
              "    <tr style=\"text-align: right;\">\n",
              "      <th></th>\n",
              "      <th>timestamp</th>\n",
              "      <th>participant_name</th>\n",
              "      <th>question</th>\n",
              "      <th>answer</th>\n",
              "      <th>is_correct</th>\n",
              "    </tr>\n",
              "  </thead>\n",
              "  <tbody>\n",
              "  </tbody>\n",
              "</table>\n",
              "</div>"
            ],
            "text/plain": [
              "Empty DataFrame\n",
              "Columns: [timestamp, participant_name, question, answer, is_correct]\n",
              "Index: []"
            ]
          },
          "execution_count": 306,
          "metadata": {},
          "output_type": "execute_result"
        }
      ],
      "source": [
        "# print rows in dataframe where question == 1499\n",
        "df[df['question'] == 1499]"
      ]
    },
    {
      "cell_type": "markdown",
      "metadata": {
        "id": "C14kTyUoAnrM"
      },
      "source": [
        "# Poll #1 - Why you attend?"
      ]
    },
    {
      "cell_type": "code",
      "execution_count": 305,
      "metadata": {
        "colab": {
          "base_uri": "https://localhost:8080/"
        },
        "id": "Je59PYmp_meU",
        "outputId": "8eba74f9-f982-4c18-db41-367c10d0c1bb"
      },
      "outputs": [],
      "source": [
        "df_why_you_attend = df[df.question == 1499]\n",
        "df_why_you_attend = df_why_you_attend[df_why_you_attend.is_correct].drop_duplicates([\"participant_name\", \"question\"])\n",
        "for row in df_why_you_attend.itertuples():\n",
        "  print(row.answer)"
      ]
    },
    {
      "cell_type": "markdown",
      "metadata": {
        "id": "ykK-pgJPAuo5"
      },
      "source": [
        "# Answers per question"
      ]
    },
    {
      "cell_type": "code",
      "execution_count": 303,
      "metadata": {
        "colab": {
          "base_uri": "https://localhost:8080/",
          "height": 564
        },
        "id": "vWp1qZCbqIcd",
        "outputId": "ec60b919-dcaa-4a10-cd6b-0bb6cde51834"
      },
      "outputs": [
        {
          "data": {
            "image/png": "[encoded data removed]",
            "text/plain": [
              "<Figure size 1000x600 with 1 Axes>"
            ]
          },
          "metadata": {},
          "output_type": "display_data"
        }
      ],
      "source": [
        "df = df.sort_values([\"is_correct\", \"timestamp\"], ascending=False).drop_duplicates([\"participant_name\", \"question\"])\n",
        "# Group by question and count the total and correct answers\n",
        "grouped = df.groupby('question').agg(total=('is_correct', 'size'), correct=('is_correct', 'sum')).reset_index()\n",
        "\n",
        "# Calculate incorrect answers\n",
        "grouped['incorrect'] = grouped['total'] - grouped['correct']\n",
        "\n",
        "# Remove questions greater than 1000 as those are used for other purposes\n",
        "grouped = grouped[grouped['question'] <= 1000]\n",
        "\n",
        "# Calculate the total height for each bar (correct + incorrect)\n",
        "total_height = grouped['correct'] + grouped['incorrect']\n",
        "\n",
        "# Plot the stacked bar chart\n",
        "plt.figure(figsize=(10, 6))\n",
        "plt.bar(grouped['question'], grouped['correct'], color='green', label='Correct')\n",
        "plt.bar(grouped['question'], grouped['incorrect'], bottom=grouped['correct'], color='red', label='Incorrect')\n",
        "\n",
        "# Add labels outside each bar\n",
        "for i, (c, ic, t) in enumerate(zip(grouped['correct'], grouped['incorrect'], total_height)):\n",
        "    plt.text(grouped['question'][i], t, f\"{c}/{ic}\", ha='center', va='bottom')\n",
        "\n",
        "\n",
        "plt.xlabel('Question')\n",
        "plt.ylabel('Number of Answers')\n",
        "plt.title('Correct and Incorrect Answers per Question')\n",
        "plt.legend()\n",
        "\n",
        "# download this plot as a png file\n",
        "plt.savefig(f\"resbaz_plot_per_question_{date}.png\")\n",
        "plt.show()\n",
        "\n"
      ]
    },
    {
      "cell_type": "code",
      "execution_count": null,
      "metadata": {},
      "outputs": [],
      "source": []
    },
    {
      "cell_type": "markdown",
      "metadata": {
        "id": "7GeBiKazA-HA"
      },
      "source": [
        "# Answers per participant"
      ]
    },
    {
      "cell_type": "code",
      "execution_count": 288,
      "metadata": {
        "colab": {
          "base_uri": "https://localhost:8080/",
          "height": 425
        },
        "id": "Vxu_ZlROqIce",
        "outputId": "b049ed43-922d-4f4f-86bc-2d7f7d53eef5"
      },
      "outputs": [
        {
          "data": {
            "text/html": [
              "<div>\n",
              "<style scoped>\n",
              "    .dataframe tbody tr th:only-of-type {\n",
              "        vertical-align: middle;\n",
              "    }\n",
              "\n",
              "    .dataframe tbody tr th {\n",
              "        vertical-align: top;\n",
              "    }\n",
              "\n",
              "    .dataframe thead th {\n",
              "        text-align: right;\n",
              "    }\n",
              "</style>\n",
              "<table border=\"1\" class=\"dataframe\">\n",
              "  <thead>\n",
              "    <tr style=\"text-align: right;\">\n",
              "      <th></th>\n",
              "      <th>timestamp</th>\n",
              "      <th>participant_name</th>\n",
              "      <th>question</th>\n",
              "      <th>answer</th>\n",
              "      <th>is_correct</th>\n",
              "    </tr>\n",
              "  </thead>\n",
              "  <tbody>\n",
              "    <tr>\n",
              "      <th>170</th>\n",
              "      <td>2024-07-10 02:40:28.614404</td>\n",
              "      <td>victor</td>\n",
              "      <td>8</td>\n",
              "      <td># @title Check Answer for Exercise 8\\nimport r...</td>\n",
              "      <td>True</td>\n",
              "    </tr>\n",
              "    <tr>\n",
              "      <th>152</th>\n",
              "      <td>2024-07-10 02:33:43.252378</td>\n",
              "      <td>Elisa Tam</td>\n",
              "      <td>8</td>\n",
              "      <td># @title Check Answer for Exercise 8\\nimport r...</td>\n",
              "      <td>True</td>\n",
              "    </tr>\n",
              "    <tr>\n",
              "      <th>137</th>\n",
              "      <td>2024-07-10 02:14:48.999604</td>\n",
              "      <td>Maira Fessardi</td>\n",
              "      <td>7</td>\n",
              "      <td>[\"banana\", \"apple\", \"orange\"]</td>\n",
              "      <td>True</td>\n",
              "    </tr>\n",
              "    <tr>\n",
              "      <th>131</th>\n",
              "      <td>2024-07-10 02:13:42.237532</td>\n",
              "      <td>Jenny Lee</td>\n",
              "      <td>5</td>\n",
              "      <td>string</td>\n",
              "      <td>True</td>\n",
              "    </tr>\n",
              "    <tr>\n",
              "      <th>130</th>\n",
              "      <td>2024-07-10 02:13:41.411228</td>\n",
              "      <td>Yimei Chuah</td>\n",
              "      <td>7</td>\n",
              "      <td>[\"banana\", \"apple\", \"orange\"]</td>\n",
              "      <td>True</td>\n",
              "    </tr>\n",
              "    <tr>\n",
              "      <th>...</th>\n",
              "      <td>...</td>\n",
              "      <td>...</td>\n",
              "      <td>...</td>\n",
              "      <td>...</td>\n",
              "      <td>...</td>\n",
              "    </tr>\n",
              "    <tr>\n",
              "      <th>5</th>\n",
              "      <td>2024-07-10 01:30:21.951600</td>\n",
              "      <td>Isaac Bain</td>\n",
              "      <td>0</td>\n",
              "      <td>10</td>\n",
              "      <td>True</td>\n",
              "    </tr>\n",
              "    <tr>\n",
              "      <th>4</th>\n",
              "      <td>2024-07-10 01:30:20.820053</td>\n",
              "      <td>Rebecca M</td>\n",
              "      <td>0</td>\n",
              "      <td>10</td>\n",
              "      <td>True</td>\n",
              "    </tr>\n",
              "    <tr>\n",
              "      <th>3</th>\n",
              "      <td>2024-07-10 01:30:20.718552</td>\n",
              "      <td>Kasey Kiesewetter</td>\n",
              "      <td>0</td>\n",
              "      <td>10</td>\n",
              "      <td>True</td>\n",
              "    </tr>\n",
              "    <tr>\n",
              "      <th>1</th>\n",
              "      <td>2024-07-10 01:30:17.374943</td>\n",
              "      <td>Margaret Carpenter</td>\n",
              "      <td>0</td>\n",
              "      <td>10</td>\n",
              "      <td>True</td>\n",
              "    </tr>\n",
              "    <tr>\n",
              "      <th>0</th>\n",
              "      <td>2024-07-10 01:30:14.977322</td>\n",
              "      <td>Jens Brinkmann</td>\n",
              "      <td>0</td>\n",
              "      <td>10</td>\n",
              "      <td>True</td>\n",
              "    </tr>\n",
              "  </tbody>\n",
              "</table>\n",
              "<p>87 rows × 5 columns</p>\n",
              "</div>"
            ],
            "text/plain": [
              "                      timestamp    participant_name  question  \\\n",
              "170  2024-07-10 02:40:28.614404              victor         8   \n",
              "152  2024-07-10 02:33:43.252378           Elisa Tam         8   \n",
              "137  2024-07-10 02:14:48.999604      Maira Fessardi         7   \n",
              "131  2024-07-10 02:13:42.237532           Jenny Lee         5   \n",
              "130  2024-07-10 02:13:41.411228         Yimei Chuah         7   \n",
              "..                          ...                 ...       ...   \n",
              "5    2024-07-10 01:30:21.951600          Isaac Bain         0   \n",
              "4    2024-07-10 01:30:20.820053           Rebecca M         0   \n",
              "3    2024-07-10 01:30:20.718552   Kasey Kiesewetter         0   \n",
              "1    2024-07-10 01:30:17.374943  Margaret Carpenter         0   \n",
              "0    2024-07-10 01:30:14.977322      Jens Brinkmann         0   \n",
              "\n",
              "                                                answer  is_correct  \n",
              "170  # @title Check Answer for Exercise 8\\nimport r...        True  \n",
              "152  # @title Check Answer for Exercise 8\\nimport r...        True  \n",
              "137                      [\"banana\", \"apple\", \"orange\"]        True  \n",
              "131                                             string        True  \n",
              "130                      [\"banana\", \"apple\", \"orange\"]        True  \n",
              "..                                                 ...         ...  \n",
              "5                                                   10        True  \n",
              "4                                                   10        True  \n",
              "3                                                   10        True  \n",
              "1                                                   10        True  \n",
              "0                                                   10        True  \n",
              "\n",
              "[87 rows x 5 columns]"
            ]
          },
          "execution_count": 288,
          "metadata": {},
          "output_type": "execute_result"
        }
      ],
      "source": [
        "df_correct = df[df.is_correct].drop_duplicates([\"participant_name\", \"question\"])\n",
        "# Remove questions greater than 1000 as those are used for other purposes\n",
        "df_correct = df_correct[df_correct['question'] <= 1000]\n",
        "df_correct"
      ]
    },
    {
      "cell_type": "code",
      "execution_count": 289,
      "metadata": {
        "colab": {
          "base_uri": "https://localhost:8080/",
          "height": 593
        },
        "id": "qTipTLnmqIcf",
        "outputId": "5e88453f-43b0-49ff-e991-22baf14e9957"
      },
      "outputs": [
        {
          "data": {
            "text/plain": [
              "<Axes: title={'center': 'correct answers per participant'}, xlabel='participant_name'>"
            ]
          },
          "execution_count": 289,
          "metadata": {},
          "output_type": "execute_result"
        },
        {
          "data": {
            "image/png": "[encoded data removed]",
            "text/plain": [
              "<Figure size 640x480 with 1 Axes>"
            ]
          },
          "metadata": {},
          "output_type": "display_data"
        }
      ],
      "source": [
        "df_correct.participant_name.value_counts().plot.bar(title=\"correct answers per participant\")"
      ]
    },
    {
      "cell_type": "markdown",
      "metadata": {
        "id": "XL1FpYi6BCO9"
      },
      "source": [
        "# Poll #2 - Which option do you choose?"
      ]
    },
    {
      "cell_type": "code",
      "execution_count": 304,
      "metadata": {
        "colab": {
          "base_uri": "https://localhost:8080/",
          "height": 428
        },
        "id": "DEKOQrgzr_vs",
        "outputId": "870d6bf0-e5be-41d1-ba81-94ac269a301a"
      },
      "outputs": [
        {
          "data": {
            "image/png": "[encoded data removed]",
            "text/plain": [
              "<Figure size 640x480 with 1 Axes>"
            ]
          },
          "metadata": {},
          "output_type": "display_data"
        }
      ],
      "source": [
        "import matplotlib.pyplot as plt\n",
        "\n",
        "# Get the data for question 1500\n",
        "question_1500 = df[df.question == 1500]\n",
        "\n",
        "# Count the number of participants who selected option a or b\n",
        "option_a_count = question_1500[question_1500.answer == \"Option A the Math Problem\"].participant_name.nunique()\n",
        "option_b_count = question_1500[question_1500.answer == \"Option B the Waiter and Tips\"].participant_name.nunique()\n",
        "\n",
        "# Create the pizza plot\n",
        "fig, ax = plt.subplots()\n",
        "ax.pie([option_a_count, option_b_count], labels=[\"Option A\", \"Option B\"], autopct=\"%1.1f%%\")\n",
        "\n",
        "# Add title and show the plot\n",
        "ax.set_title(\"Which option did people choose?\")\n",
        "\n",
        "# add legend \n",
        "ax.legend()\n",
        "plt.show()\n"
      ]
    },
    {
      "cell_type": "code",
      "execution_count": null,
      "metadata": {},
      "outputs": [],
      "source": []
    }
  ],
  "metadata": {
    "colab": {
      "provenance": []
    },
    "kernelspec": {
      "display_name": "Python 3",
      "language": "python",
      "name": "python3"
    },
    "language_info": {
      "codemirror_mode": {
        "name": "ipython",
        "version": 3
      },
      "file_extension": ".py",
      "mimetype": "text/x-python",
      "name": "python",
      "nbconvert_exporter": "python",
      "pygments_lexer": "ipython3",
      "version": "3.11.6"
    }
  },
  "nbformat": 4,
  "nbformat_minor": 0
}
